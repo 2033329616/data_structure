{
 "cells": [
  {
   "cell_type": "markdown",
   "metadata": {},
   "source": [
    "# 2_链表"
   ]
  },
  {
   "cell_type": "markdown",
   "metadata": {},
   "source": [
    "## 1. 链表结点的定义\n",
    "使用一个类来定义链表的每个结点"
   ]
  },
  {
   "cell_type": "code",
   "execution_count": 3,
   "metadata": {},
   "outputs": [],
   "source": [
    "class Node(object):\n",
    "    def __init__(self, data, next=None):\n",
    "        \"\"\"\n",
    "        data:新结点的数据\n",
    "        next:新结点的next指针，指向下一个结点(注意在python中next关键字是迭代器返回下一次值的函数，这里用作临时变量)\n",
    "        \"\"\"\n",
    "        self.data = data\n",
    "        self.next = next"
   ]
  },
  {
   "cell_type": "markdown",
   "metadata": {},
   "source": [
    "## 2. 链表的创建与遍历\n",
    "创建链表时每次只能在当前头结点的前面(左边)插入"
   ]
  },
  {
   "cell_type": "code",
   "execution_count": 105,
   "metadata": {},
   "outputs": [
    {
     "name": "stdout",
     "output_type": "stream",
     "text": [
      "1.数据插入的顺序(每次往左边插入)：\n",
      "1 2 3 4 5 \n",
      "2.数据遍历的顺序(从左到右输出)：\n",
      "5 4 3 2 1 "
     ]
    }
   ],
   "source": [
    "head = None                      # 定义一个空结点\n",
    "print('1.数据插入的顺序(每次往左边插入)：')\n",
    "for count in range(1, 6):\n",
    "    head = Node(count, head)     # 每次都向前面插入结点，最后head指向第一个结点\n",
    "    print(head.data, end=' ')\n",
    "print('\\n2.数据遍历的顺序(从左到右输出)：')\n",
    "while head != None:              # 遍历的时候是从左往右，遍历完head指向None，即将链表删除\n",
    "    print(head.data, end=' ')\n",
    "    head = head.next"
   ]
  },
  {
   "cell_type": "markdown",
   "metadata": {},
   "source": [
    "上面直接使用head指针遍历链表，遍历完成的同时也将链表删除，head指针变为None了，为了只进行遍历设置**临时指针**即可"
   ]
  },
  {
   "cell_type": "code",
   "execution_count": 117,
   "metadata": {},
   "outputs": [
    {
     "name": "stdout",
     "output_type": "stream",
     "text": [
      "2083456793736\n",
      "2083456793736\n"
     ]
    }
   ],
   "source": [
    "head = None\n",
    "for count in range(1, 6):\n",
    "    head = Node(count, head)\n",
    "print(id(head))\n",
    "probe = head                         # 赋值操作本质是地址的引用\n",
    "print(id(probe))"
   ]
  },
  {
   "cell_type": "code",
   "execution_count": 118,
   "metadata": {},
   "outputs": [
    {
     "name": "stdout",
     "output_type": "stream",
     "text": [
      "value: 5  id: 2083456793736\n",
      "value: 4  id: 2083456793512\n",
      "value: 3  id: 2083456794072\n",
      "value: 2  id: 2083456793792\n",
      "value: 1  id: 2083456793176\n",
      "probe: None\n",
      "head: <__main__.Node object at 0x000001E517B3BC88>\n"
     ]
    }
   ],
   "source": [
    "while probe != None:                 # 遍历的时候是从左往右，遍历完head指向None，即将链表删除\n",
    "    print('value:', probe.data, end='  ')\n",
    "    print('id:', id(probe))\n",
    "    probe = probe.next               # 每次probe的地址都会变，但不影响head的值，因此遍历完链表probe为None，链表仍存在\n",
    "print('probe:', probe)\n",
    "print('head:', head)"
   ]
  },
  {
   "cell_type": "markdown",
   "metadata": {},
   "source": [
    "## 3. 链表的搜索与替换\n",
    "\n",
    "### 3.1 搜索特定的值\n",
    "两种情况：\n",
    "1. 在某个位置找到(可能最后一个位置)\n",
    "2. 链表遍历完也没有找到\n",
    "\n",
    "**注意：最后一个节点的next指针指向None**"
   ]
  },
  {
   "cell_type": "code",
   "execution_count": 119,
   "metadata": {},
   "outputs": [
    {
     "name": "stdout",
     "output_type": "stream",
     "text": [
      "find it! 5\n",
      "插入的值： new_value\n"
     ]
    }
   ],
   "source": [
    "probe = head\n",
    "targetItem = 5\n",
    "while probe != None and targetItem != probe.data:          # 没有找完链表，而且没有找到该值\n",
    "    probe = probe.next                                     # 向右移动指针\n",
    "if probe == None:\n",
    "    print('Not found!')\n",
    "else:\n",
    "    print('find it! %d' % probe.data)\n",
    "    probe.data = 'new_value'                               # 找到该值并进行替换  \n",
    "print('插入的值：', probe.data)"
   ]
  },
  {
   "cell_type": "markdown",
   "metadata": {},
   "source": [
    "### 3.2 搜索特定次序的值\n",
    "注意：索引从0开始算起"
   ]
  },
  {
   "cell_type": "code",
   "execution_count": 120,
   "metadata": {},
   "outputs": [
    {
     "name": "stdout",
     "output_type": "stream",
     "text": [
      "2\n",
      "new_value\n"
     ]
    }
   ],
   "source": [
    "probe = head\n",
    "index = 3                      # 索引3表示第4个数，所以是2\n",
    "while index > 0:               # 5 4 3 2 1\n",
    "    probe = probe.next\n",
    "    index -= 1\n",
    "print(probe.data)\n",
    "probe.data = 'new_value'\n",
    "print(probe.data)"
   ]
  },
  {
   "cell_type": "markdown",
   "metadata": {},
   "source": [
    "## 4. 任意位置插入与删除\n",
    "在第 $i$ 个位置进行插入与删除，需要先找到第 $i-1$ 个位置"
   ]
  },
  {
   "cell_type": "code",
   "execution_count": null,
   "metadata": {},
   "outputs": [],
   "source": []
  },
  {
   "cell_type": "code",
   "execution_count": null,
   "metadata": {},
   "outputs": [],
   "source": []
  },
  {
   "cell_type": "code",
   "execution_count": null,
   "metadata": {},
   "outputs": [],
   "source": []
  },
  {
   "cell_type": "code",
   "execution_count": null,
   "metadata": {},
   "outputs": [],
   "source": []
  },
  {
   "cell_type": "code",
   "execution_count": null,
   "metadata": {},
   "outputs": [],
   "source": []
  },
  {
   "cell_type": "code",
   "execution_count": null,
   "metadata": {},
   "outputs": [],
   "source": []
  },
  {
   "cell_type": "code",
   "execution_count": null,
   "metadata": {},
   "outputs": [],
   "source": []
  }
 ],
 "metadata": {
  "kernelspec": {
   "display_name": "Python 3",
   "language": "python",
   "name": "python3"
  },
  "language_info": {
   "codemirror_mode": {
    "name": "ipython",
    "version": 3
   },
   "file_extension": ".py",
   "mimetype": "text/x-python",
   "name": "python",
   "nbconvert_exporter": "python",
   "pygments_lexer": "ipython3",
   "version": "3.6.4"
  }
 },
 "nbformat": 4,
 "nbformat_minor": 2
}
