{
 "cells": [
  {
   "cell_type": "markdown",
   "metadata": {},
   "source": [
    "# 2_链表"
   ]
  },
  {
   "cell_type": "markdown",
   "metadata": {},
   "source": [
    "## 1. 链表结点的定义\n",
    "<img src='notes/images/单链表.jpg' width=30% height=30%>\n",
    "使用一个类来定义链表的每个结点"
   ]
  },
  {
   "cell_type": "code",
   "execution_count": 1,
   "metadata": {},
   "outputs": [],
   "source": [
    "class Node(object):\n",
    "    def __init__(self, data, next=None):\n",
    "        \"\"\"\n",
    "        data:新结点的数据\n",
    "        next:新结点的next指针，指向下一个结点(注意在python中next关键字是迭代器返回下一次值的函数，这里用作临时变量)\n",
    "        \"\"\"\n",
    "        self.data = data\n",
    "        self.next = next"
   ]
  },
  {
   "cell_type": "markdown",
   "metadata": {},
   "source": [
    "## 2. 链表的创建与遍历\n",
    "\n",
    "### 2.1 向左插入创建\n",
    "创建链表时每次只能在当前头结点的前面(左边)插入"
   ]
  },
  {
   "cell_type": "code",
   "execution_count": 2,
   "metadata": {},
   "outputs": [
    {
     "name": "stdout",
     "output_type": "stream",
     "text": [
      "1.数据插入的顺序(每次往左边插入)：\n",
      "1 2 3 4 5 \n",
      "2.数据遍历的顺序(从左到右输出)：\n",
      "5 4 3 2 1 "
     ]
    }
   ],
   "source": [
    "head = None                      # 定义一个空结点\n",
    "print('1.数据插入的顺序(每次往左边插入)：')\n",
    "for count in range(1, 6):\n",
    "    head = Node(count, head)     # 每次都向前面插入结点，最后head指向第一个结点\n",
    "    print(head.data, end=' ')\n",
    "print('\\n2.数据遍历的顺序(从左到右输出)：')\n",
    "while head != None:              # 遍历的时候是从左往右，遍历完head指向None，即将链表删除\n",
    "    print(head.data, end=' ')\n",
    "    head = head.next"
   ]
  },
  {
   "cell_type": "markdown",
   "metadata": {},
   "source": [
    "上面直接使用head指针遍历链表，遍历完成的同时也将链表删除，head指针变为None了，为了只进行遍历设置**临时指针**即可"
   ]
  },
  {
   "cell_type": "code",
   "execution_count": 3,
   "metadata": {},
   "outputs": [
    {
     "name": "stdout",
     "output_type": "stream",
     "text": [
      "2190027934968\n",
      "2190027934968\n"
     ]
    }
   ],
   "source": [
    "head = None\n",
    "for count in range(1, 6):\n",
    "    head = Node(count, head)\n",
    "print(id(head))\n",
    "probe = head                         # 赋值操作本质是地址的引用\n",
    "print(id(probe))"
   ]
  },
  {
   "cell_type": "code",
   "execution_count": 4,
   "metadata": {},
   "outputs": [
    {
     "name": "stdout",
     "output_type": "stream",
     "text": [
      "value: 5  id: 2190027934968\n",
      "value: 4  id: 2190027934912\n",
      "value: 3  id: 2190027934856\n",
      "value: 2  id: 2190027934800\n",
      "value: 1  id: 2190027934688\n",
      "probe: None\n",
      "head: <__main__.Node object at 0x000001FDE7D64CF8>\n"
     ]
    }
   ],
   "source": [
    "while probe != None:                 # 遍历的时候是从左往右，遍历完head指向None，即将链表删除\n",
    "    print('value:', probe.data, end='  ')\n",
    "    print('id:', id(probe))\n",
    "    probe = probe.next               # 每次probe的地址都会变，但不影响head的值，因此遍历完链表probe为None，链表仍存在\n",
    "print('probe:', probe)\n",
    "print('head:', head)"
   ]
  },
  {
   "cell_type": "markdown",
   "metadata": {},
   "source": [
    "### 2.2 向右插入创建"
   ]
  },
  {
   "cell_type": "code",
   "execution_count": 5,
   "metadata": {},
   "outputs": [
    {
     "name": "stdout",
     "output_type": "stream",
     "text": [
      "1.数据插入的顺序(每次往右边插入)：\n",
      "1 2 3 4 5 \n",
      "2.链表遍历：\n",
      "1 2 3 4 5 "
     ]
    }
   ],
   "source": [
    "head = Node(None, None)                       # 定义一个空结点，可以称为哑头结点\n",
    "probe = head\n",
    "print('1.数据插入的顺序(每次往右边插入)：')\n",
    "for count in range(1, 6):\n",
    "    probe.next = Node(count, probe.next)      # 每次都向右边插入结点，最后probe指向最后的结点\n",
    "    probe = probe.next\n",
    "    print(probe.data, end=' ')\n",
    "\n",
    "probe = head\n",
    "print('\\n2.链表遍历：')\n",
    "while probe.next != None:\n",
    "    probe = probe.next\n",
    "    print(probe.data, end=' ')"
   ]
  },
  {
   "cell_type": "markdown",
   "metadata": {},
   "source": [
    "## 3. 链表的搜索与替换\n",
    "\n",
    "### 3.1 搜索特定的值\n",
    "两种情况：\n",
    "1. 在某个位置找到(可能最后一个位置)\n",
    "2. 链表遍历完也没有找到\n",
    "\n",
    "**注意：最后一个节点的next指针指向None**"
   ]
  },
  {
   "cell_type": "code",
   "execution_count": 6,
   "metadata": {},
   "outputs": [
    {
     "name": "stdout",
     "output_type": "stream",
     "text": [
      "find it! 5\n",
      "插入的值： new_value\n"
     ]
    }
   ],
   "source": [
    "probe = head\n",
    "targetItem = 5\n",
    "while probe != None and targetItem != probe.data:          # 没有找完链表，而且没有找到该值\n",
    "    probe = probe.next                                     # 向右移动指针\n",
    "if probe == None:\n",
    "    print('Not found!')\n",
    "else:\n",
    "    print('find it! %d' % probe.data)\n",
    "    probe.data = 'new_value'                               # 找到该值并进行替换  \n",
    "print('插入的值：', probe.data)"
   ]
  },
  {
   "cell_type": "markdown",
   "metadata": {},
   "source": [
    "### 3.2 搜索特定次序的值\n",
    "注意：索引从0开始算起"
   ]
  },
  {
   "cell_type": "code",
   "execution_count": 7,
   "metadata": {},
   "outputs": [
    {
     "name": "stdout",
     "output_type": "stream",
     "text": [
      "3\n",
      "new_value\n"
     ]
    }
   ],
   "source": [
    "probe = head\n",
    "index = 3                      # 索引3表示第4个数，所以是\"2\"\n",
    "while index > 0:               # 5 4 3 2 1\n",
    "    probe = probe.next\n",
    "    index -= 1\n",
    "print(probe.data)\n",
    "probe.data = 'new_value'\n",
    "print(probe.data)"
   ]
  },
  {
   "cell_type": "markdown",
   "metadata": {},
   "source": [
    "## 4. 任意位置插入与删除\n",
    "\n",
    "### 4.1 任意位置插入新结点\n",
    "(1) 在前面(左边)插入结点的创建方式\n",
    "\n",
    "在索引为 $i$ 的位置进行插入，需要先找到索引为 $i-1$ 的位置，其中 $i \\in [0,n)$， 同样先判断链表是否为空"
   ]
  },
  {
   "cell_type": "code",
   "execution_count": 8,
   "metadata": {},
   "outputs": [
    {
     "name": "stdout",
     "output_type": "stream",
     "text": [
      "列表的遍历结果：\n",
      "5  4  3  2  1  "
     ]
    }
   ],
   "source": [
    "head = None\n",
    "for count in range(1, 6):              # 向前插入结点创建链表 [5,4,3,2,1]\n",
    "    head = Node(count, head)\n",
    "#     print(head.data, end=' ')\n",
    "print('列表的遍历结果：')\n",
    "probe = head\n",
    "while probe != None:                 # 遍历的时候是从左往右，遍历完head指向None，即将链表删除\n",
    "    print(probe.data, end='  ')\n",
    "    probe = probe.next "
   ]
  },
  {
   "cell_type": "code",
   "execution_count": 9,
   "metadata": {},
   "outputs": [
    {
     "name": "stdout",
     "output_type": "stream",
     "text": [
      "当前probe指针指向的数据：3\n"
     ]
    }
   ],
   "source": [
    "index = 3                             # 在索引为3的位置插入数据，\n",
    "newItem = 100\n",
    "if head is None or index <= 0:        # 在第一个位置进行插入，注意当前链表中head指向第一个结点\n",
    "    head = Node(newItem, head)\n",
    "else:\n",
    "    probe = head\n",
    "    while index > 1 and probe.next != None:          # 循环结束后probe会指向待插入结点的前一个结点，边界值为指向最后一个元素\n",
    "        probe = probe.next\n",
    "        index -= 1\n",
    "    probe.next = Node(newItem, probe.next)\n",
    "    print('当前probe指针指向的数据：%d' % probe.data)  # 在数据3后边插入新的数据"
   ]
  },
  {
   "cell_type": "code",
   "execution_count": 10,
   "metadata": {},
   "outputs": [
    {
     "name": "stdout",
     "output_type": "stream",
     "text": [
      "5 4 3 100 2 1 "
     ]
    }
   ],
   "source": [
    "probe = head\n",
    "while probe != None:\n",
    "    print(probe.data, end=' ')\n",
    "    probe = probe.next"
   ]
  },
  {
   "cell_type": "markdown",
   "metadata": {},
   "source": [
    "**注意：当使用后向插入创建链表的话，使用上述方式遍历链表，index变为从1开始的次序，即第index个数**"
   ]
  },
  {
   "cell_type": "markdown",
   "metadata": {},
   "source": [
    "### 4.2 任意位置删除结点\n",
    "删除的结点的位置不会大于最后一个结点"
   ]
  },
  {
   "cell_type": "code",
   "execution_count": 11,
   "metadata": {},
   "outputs": [],
   "source": [
    "head = None\n",
    "for count in range(1, 6):                # 向前插入结点创建链表 [5,4,3,2,1]\n",
    "    head = Node(count, head)"
   ]
  },
  {
   "cell_type": "code",
   "execution_count": 12,
   "metadata": {},
   "outputs": [
    {
     "name": "stdout",
     "output_type": "stream",
     "text": [
      "删除的数据为：2\n"
     ]
    }
   ],
   "source": [
    "index = 3                                             # 删除索引为3的数据\n",
    "if index <= 0 or head.next is None:                   # 就一个元素\n",
    "    removedItem = head.data\n",
    "else:\n",
    "    probe = head\n",
    "    while index > 1 and probe.next.next != None:      # 循环完成后，可能找到index的位置或到了倒数第二个位置 \n",
    "        probe = probe.next\n",
    "        index -= 1\n",
    "    removedItem = probe.next.data\n",
    "    probe.next = probe.next.next                      # 删除probe指针后面的结点\n",
    "print('删除的数据为：%d' % removedItem)"
   ]
  },
  {
   "cell_type": "code",
   "execution_count": 13,
   "metadata": {},
   "outputs": [
    {
     "name": "stdout",
     "output_type": "stream",
     "text": [
      "5 4 3 1 "
     ]
    }
   ],
   "source": [
    "probe = head\n",
    "while probe != None:\n",
    "    print(probe.data, end=' ')\n",
    "    probe = probe.next"
   ]
  },
  {
   "cell_type": "markdown",
   "metadata": {},
   "source": [
    "总结：\n",
    "在使用临时变量probe在while方式下遍历链表有如下规律：\n",
    "1. `probe != None`在循环结束后，probe指针指向None，即最后一个节点指向的next结点，可以视为None\n",
    "2. `probe.next != None`在循环结束后，probe指针指向最后一个结点\n",
    "3. `probe.next.next != None`在循环结束后，probe指针指向倒数第二个结点\n",
    "\n",
    "以上全是单链表的操作"
   ]
  },
  {
   "cell_type": "markdown",
   "metadata": {},
   "source": [
    "## 5. 循环链表\n",
    "</img>\n",
    "<table>\n",
    "    <tr>\n",
    "    <td><img src='notes/images/空循环链表.jpg'  width=70% height=70%></td>\n",
    "    <td><img src='notes/images/循环链表.jpg' width=70% height=70%></td>\n",
    "    </tr>\n",
    "</table>\n",
    "### 5.1 创建循环链表"
   ]
  },
  {
   "cell_type": "code",
   "execution_count": 14,
   "metadata": {},
   "outputs": [],
   "source": [
    "head = Node(None, None)         # 定义一个空结点，不存储数据，也称为哑头结点\n",
    "head.next = head                # 结点next指针指向自己本身，构成循环"
   ]
  },
  {
   "cell_type": "markdown",
   "metadata": {},
   "source": [
    "由于head指向的结点不存储数据，所以index指向的位置变为从1开始的次序\n",
    "\n",
    "**注意：每次插入第 $i$ 个位置的后面；遍历循环链表的结束条件是当前结点下一个结点为head**"
   ]
  },
  {
   "cell_type": "code",
   "execution_count": 15,
   "metadata": {},
   "outputs": [],
   "source": [
    "index = 2\n",
    "newItem = 100\n",
    "probe = head\n",
    "while index > 0 and probe.next != head:   # 循环结束后，probe指向第index个位置；该指针不会超过最后一个位置\n",
    "    probe = probe.next\n",
    "    index -= 1\n",
    "probe.next = Node(newItem, probe.next)"
   ]
  },
  {
   "cell_type": "code",
   "execution_count": 16,
   "metadata": {},
   "outputs": [
    {
     "name": "stdout",
     "output_type": "stream",
     "text": [
      "100 "
     ]
    }
   ],
   "source": [
    "probe = head\n",
    "while probe.next != head:\n",
    "    probe = probe.next\n",
    "    print(probe.data, end=' ')"
   ]
  },
  {
   "cell_type": "markdown",
   "metadata": {},
   "source": [
    "## 6. 双链表\n",
    "<img src='notes/images/双链表.jpg' width=35% height=35%>"
   ]
  },
  {
   "cell_type": "code",
   "execution_count": 17,
   "metadata": {},
   "outputs": [],
   "source": [
    "class Node(object):\n",
    "    def __init__(self, data, next=None):\n",
    "        \"\"\"\n",
    "        定义一个单链表的结点\n",
    "        \"\"\"\n",
    "        self.data = data\n",
    "        self.next = next\n",
    "class TwoWayNode(Node):\n",
    "    def __init__(self, data, previous=None, next=None):\n",
    "        super(TwoWayNode, self).__init__(data, next)       # 初始化父类，之后可以使用其属性\n",
    "#         Node.__init__(self, data, next)                  # 旧版方式初始化父类\n",
    "        self.previous = previous\n",
    "    def hello(self):\n",
    "        print('sdfsd')"
   ]
  },
  {
   "cell_type": "code",
   "execution_count": 18,
   "metadata": {},
   "outputs": [
    {
     "name": "stdout",
     "output_type": "stream",
     "text": [
      "双向链表从后向前遍历的结果：\n",
      "5 4 3 2 1 "
     ]
    }
   ],
   "source": [
    "head = TwoWayNode(1)                    # 先定义一个头结点，并且使head和tail指针指向该结点\n",
    "tail = head\n",
    "for data in range(2, 6):\n",
    "    tail.next = TwoWayNode(data, tail)  # 1.先将tail设置为新结点的previou指针，2.再将新结点设置为tail的next指针\n",
    "    tail = tail.next                    # tail结点后移\n",
    "probe = tail\n",
    "print('双向链表从后向前遍历的结果：')\n",
    "while probe != None:\n",
    "    print(probe.data, end=' ')\n",
    "    probe = probe.previous"
   ]
  },
  {
   "cell_type": "code",
   "execution_count": 19,
   "metadata": {},
   "outputs": [
    {
     "name": "stdout",
     "output_type": "stream",
     "text": [
      "2333\n",
      "chi\n",
      "小明 2333 18 None 男 61\n"
     ]
    }
   ],
   "source": [
    "class Person(object):\n",
    "    number = 61\n",
    "\n",
    "    def __init__(self):\n",
    "        self.name = '小明'\n",
    "        self.age = 18\n",
    "        self.gender = '男'      \n",
    "    def func(self):\n",
    "        return '2333'\n",
    "\n",
    "\n",
    "class Student(Person):\n",
    "    def __init__(self):\n",
    "        super().__init__()\n",
    "        pass\n",
    "    def eat(self):\n",
    "        print('chi')\n",
    "\n",
    "stu1 = Student()\n",
    "print(stu1.func())\n",
    "print(stu1.name, stu1.func(),stu1.age, stu1.eat(), stu1.gender, stu1.number)"
   ]
  },
  {
   "cell_type": "markdown",
   "metadata": {},
   "source": [
    "总结：\n",
    "1. 当python子类继承父类后，没有`__init__(self)`函数，则其直接调用父类的初始化函数，并且得到它里面定义的的所有属性，同时父类的方法也可以直接使用，如果在子类中定义了`__init__(self)`函数，则会优先使用子类中的初始化函数，不会调用父类的初始化函数，同时父类初始化函数中定义的属性不可用，**但父类中定义的方法仍旧可以用**，如果在子类的`__init__(self)`函数中使用`super().__init__()`则子类对象可以使用父类初始化函数中定义的属性\n",
    "2. 无论子类中有无`__init__(self)`函数，子类对象都可以使用父类中定义的方法\n",
    "3. `super(subclass_name, self).__init__(*args, **kargs)`一般super()中的参数可以省略，写成`super().__init__(*args, **kargs)`\n",
    "4.python中可以有多个父类，使用`class C(A,B):`方式来定义，多继承参考 [super() 函数](https://www.runoob.com/python/python-func-super.html)"
   ]
  },
  {
   "cell_type": "code",
   "execution_count": 20,
   "metadata": {},
   "outputs": [
    {
     "name": "stdout",
     "output_type": "stream",
     "text": [
      "27\n",
      "David\n",
      "male\n"
     ]
    }
   ],
   "source": [
    "class Father(object):\n",
    "    def __init__(self, name, age, *args, **kwargs):\n",
    "        self.name = name\n",
    "        self.age = age\n",
    "        super().__init__(*args, **kwargs)                # 为了实现多继承后，多个参数的分配问题，这里的super必须加？？？\n",
    "\n",
    "class Mother(object):\n",
    "\n",
    "    def __init__(self, gender=None, *args, **kwargs):\n",
    "        self.gender = gender\n",
    "        super().__init__(*args, **kwargs)\n",
    "\n",
    "\n",
    "class Student(Father, Mother):\n",
    "    def __init__(self, name, age):\n",
    "        super().__init__(name, age, 'male')             # 按继承的顺序分配属性个数，Father分配两个参数，Mother分配一个\n",
    "\n",
    "# print(Student.__mro__)\n",
    "stu1 = Student('David', 27)\n",
    "print(stu1.age)\n",
    "print(stu1.name)\n",
    "print(stu1.gender)"
   ]
  },
  {
   "cell_type": "markdown",
   "metadata": {},
   "source": [
    "总结：当有多个父类时，super()调用参数进行初始化时注意参数个数的分配，继承顺序靠前的父类先分配参数，参数个数满足后再给后面的父类分配参数\n",
    "\n",
    "参考：[python中class类的继承 多继承及super()](https://www.jianshu.com/p/000c4e5f781a)"
   ]
  }
 ],
 "metadata": {
  "kernelspec": {
   "display_name": "Python 3",
   "language": "python",
   "name": "python3"
  },
  "language_info": {
   "codemirror_mode": {
    "name": "ipython",
    "version": 3
   },
   "file_extension": ".py",
   "mimetype": "text/x-python",
   "name": "python",
   "nbconvert_exporter": "python",
   "pygments_lexer": "ipython3",
   "version": "3.6.4"
  }
 },
 "nbformat": 4,
 "nbformat_minor": 2
}
