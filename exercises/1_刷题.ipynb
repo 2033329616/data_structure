{
 "cells": [
  {
   "cell_type": "markdown",
   "metadata": {},
   "source": [
    "# 算法题"
   ]
  },
  {
   "cell_type": "markdown",
   "metadata": {},
   "source": [
    "# 1. 魔法排列\n",
    "<center>\n",
    "<img src='images/魔法排列.jpg' width=80% height=80%>\n",
    "</center>"
   ]
  },
  {
   "cell_type": "markdown",
   "metadata": {},
   "source": [
    "解题思路：\n",
    "\n",
    "思路一：\n",
    "<center>\n",
    "<img src='images/坐标轴.jpg'>\n",
    "</center>\n",
    "\n",
    "假设从N个点中的第一个点出发，可以到达其他的N-1个点，可以从上图看出，对于每一个片段经过的次数是不一样的，而将第一个点看做**起点**共有(N-1)!种情况，可以理解为将剩下的N-1个点进行排列组合，而N个点中每个点都可以作为起点，所以一共有N*(N-1)!=N!种情况，因此只要统计出以每一个点为出发点时各个片段经过的次数，然后再乘以各个片段的长度就得到了总的前进距离\n",
    "\n",
    "||part1|part2|part3|...|partN-1|\n",
    "|-|-|-|-|-|-|\n",
    "|1|N-1|N-2|N-3|...|1|\n",
    "|2|1  |N-2|N-3|...|1|\n",
    "|3|1  |2  |N-3|...|1|\n",
    "|4|1  |2  |3|...|1|\n",
    "|5|...  |...  |...|...|...|\n",
    "|N  |1  |2  |3|...|N-1|\n",
    "\n",
    "**上面的表格中行代表以哪个点为起点，列代表以当前点为起点每个片段经过的次数**，总共有N行N-1列个数，对每一列求和然后乘以(N-1)!代表当前片段经过的总次数，设对第$k$列求和，公式如下：\n",
    "$$num_k=[k*(N-k) + k*(N-k)]*(N-1)!=2*k*(N-k)*(N-1)!$$\n",
    "设第$k$段的距离为$d_k$，则总的距离如下：\n",
    "$$D_{total}=\\sum_{k=1}^{N-1}num_k*d_k$$"
   ]
  },
  {
   "cell_type": "code",
   "execution_count": 3,
   "metadata": {},
   "outputs": [
    {
     "name": "stdout",
     "output_type": "stream",
     "text": [
      "3\n",
      "0 1 3\n",
      "24\n"
     ]
    }
   ],
   "source": [
    "# 100%\n",
    "def factorial2(n, k):                                             # 阶乘\n",
    "    tmp = 1\n",
    "    for i in range(1,n+1):\n",
    "        tmp =  (tmp*i + (10**9 + 7)) % (10**9 + 7)               # 防止溢出\n",
    "    return tmp\n",
    "def result2():\n",
    "    \"\"\"\n",
    "    思路一：\n",
    "    分别将n个点中任意一个点为当前出发点，以该点为出发点的情况共(n-1)!，每个点到其他n-1个点对于每个线段经过的次数不一样，\n",
    "    每个线段对应n个出发点对应的总次数，乘以段的长度得总的长度\n",
    "    2*i(n-i)*distance_i*(n-1)!\n",
    "    思路二：\n",
    "    https://www.nowcoder.com/questionTerminal/b484f71c7eb04e518e6a243ba687830d?orderByHotValue=1&page=1&onlyReference=false\n",
    "    对于N个数中任意两个数共有C(N,2)个数对，放在其他(n-1)!个位置，计算每个对之间的距离P，P*2*(N-1)!\n",
    "    \"\"\"\n",
    "    n = int(input().strip('\\n'))\n",
    "    num_list = list(map(int, input().str\n",
    "                        ip().split(' ')))\n",
    "    sum = 0\n",
    "    for i in range(1, n):\n",
    "        tmp_distance = num_list[i] - num_list[i-1]\n",
    "        sum += 2*i* (n - i) * tmp_distance\n",
    "    sum *=  factorial2(n-1,n-2)\n",
    "    out = sum % (10**9 + 7)\n",
    "    print(out)\n",
    "result2()"
   ]
  },
  {
   "cell_type": "code",
   "execution_count": null,
   "metadata": {},
   "outputs": [],
   "source": []
  },
  {
   "cell_type": "code",
   "execution_count": null,
   "metadata": {},
   "outputs": [],
   "source": []
  },
  {
   "cell_type": "code",
   "execution_count": null,
   "metadata": {},
   "outputs": [],
   "source": []
  },
  {
   "cell_type": "code",
   "execution_count": null,
   "metadata": {},
   "outputs": [],
   "source": []
  },
  {
   "cell_type": "code",
   "execution_count": null,
   "metadata": {},
   "outputs": [],
   "source": []
  },
  {
   "cell_type": "code",
   "execution_count": null,
   "metadata": {},
   "outputs": [],
   "source": []
  },
  {
   "cell_type": "code",
   "execution_count": null,
   "metadata": {},
   "outputs": [],
   "source": []
  },
  {
   "cell_type": "code",
   "execution_count": null,
   "metadata": {},
   "outputs": [],
   "source": []
  },
  {
   "cell_type": "code",
   "execution_count": null,
   "metadata": {},
   "outputs": [],
   "source": []
  },
  {
   "cell_type": "code",
   "execution_count": null,
   "metadata": {},
   "outputs": [],
   "source": []
  },
  {
   "cell_type": "code",
   "execution_count": null,
   "metadata": {},
   "outputs": [],
   "source": []
  },
  {
   "cell_type": "code",
   "execution_count": null,
   "metadata": {},
   "outputs": [],
   "source": []
  },
  {
   "cell_type": "code",
   "execution_count": null,
   "metadata": {},
   "outputs": [],
   "source": []
  }
 ],
 "metadata": {
  "kernelspec": {
   "display_name": "Python 3",
   "language": "python",
   "name": "python3"
  },
  "language_info": {
   "codemirror_mode": {
    "name": "ipython",
    "version": 3
   },
   "file_extension": ".py",
   "mimetype": "text/x-python",
   "name": "python",
   "nbconvert_exporter": "python",
   "pygments_lexer": "ipython3",
   "version": "3.6.4"
  }
 },
 "nbformat": 4,
 "nbformat_minor": 2
}
