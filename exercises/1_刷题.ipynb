{
 "cells": [
  {
   "cell_type": "markdown",
   "metadata": {},
   "source": [
    "# 算法题"
   ]
  },
  {
   "cell_type": "markdown",
   "metadata": {},
   "source": [
    "# 1. 魔法排列\n",
    "<center>\n",
    "<img src='images/魔法排列.jpg' width=80% height=80%>\n",
    "</center>"
   ]
  },
  {
   "cell_type": "markdown",
   "metadata": {},
   "source": [
    "解题思路：\n",
    "\n",
    "思路一：\n",
    "<center>\n",
    "<img src='images/坐标轴.jpg'>\n",
    "</center>\n",
    "\n",
    "假设从N个点中的第一个点出发，可以到达其他的N-1个点，可以从上图看出，对于每一个片段经过的次数是不一样的，而将第一个点看做**起点**共有(N-1)!种情况，可以理解为将剩下的N-1个点进行排列组合，而N个点中每个点都可以作为起点，所以一共有N*(N-1)!=N!种情况，因此只要统计出以每一个点为出发点时各个片段经过的次数，然后再乘以各个片段的长度就得到了总的前进距离\n",
    "\n",
    "||part1|part2|part3|...|partN-1|\n",
    "|-|-|-|-|-|-|\n",
    "|1|N-1|N-2|N-3|...|1|\n",
    "|2|1  |N-2|N-3|...|1|\n",
    "|3|1  |2  |N-3|...|1|\n",
    "|4|1  |2  |3|...|1|\n",
    "|...|...  |...  |...|...|...|\n",
    "|N  |1  |2  |3|...|N-1|\n",
    "\n",
    "**上面的表格中行代表以哪个点为起点，列代表以当前点为起点每个片段经过的次数**，总共有N行N-1列个数，对每一列求和然后乘以(N-1)!代表当前片段经过的总次数，设对第$k \\in [1,N-1]$列求和，公式如下：\n",
    "$$num_k=[k*(N-k) + k*(N-k)]*(N-1)!=2*k*(N-k)*(N-1)! $$\n",
    "设第$k$段的距离为$d_k$，则总的距离如下：\n",
    "$$D_{total}=\\sum_{k=1}^{N-1}num_k*d_k$$\n",
    "\n",
    "思路二：\n",
    "\n",
    "在N个数中任意取两个，共有$C(N,2)$种取法，利用捆绑法将这两个数看做一个数放在其他N-1个位置中，这N-1个位置共有$(N-1)!$种排列，所以只要找到所有的对，直接乘$2*(N-1)!$即可，因为$(a,b)$和$(b,a)$是不同的，所有要乘2\n",
    "\n",
    "第$i$个点和其前面的$i-1$个点都可以组成对，所有共有$i-1$个对，使用数组sum存储每个点与其前面点组成的所有对的总距离\n",
    "\n",
    "```\n",
    "sum[1] = 0\n",
    "sum[2] = p[2] - p[1]\n",
    "sum[3] = p[3] - p[2] + \n",
    "         p[3] - p[2] + p[2] - p[1]\n",
    "sum[4] = p[4] - p[3] + \n",
    "         p[4] - p[3] + p[3] - p[2]\n",
    "         p[4] - p[3] + p[3] - p[2] + p[2] - p[1]\n",
    "sum[5] = p[5] - p[4] +\n",
    "         p[5] - p[4] + p[4] - p[3] + \n",
    "         p[5] - p[4] + p[4] - p[3] + p[3] - p[2] +\n",
    "         p[5] - p[4] + p[4] - p[3] + p[3] - p[2] + p[2] - p[1]\n",
    "   .\n",
    "   .\n",
    "   . \n",
    "sum[N] = p[N] - p[N-1] +\n",
    "         p[N] - p[N-1] + p[N-1] - p[N-2] + \n",
    "         p[N] - p[N-1] + p[N-1] - p[N-2] + p[N-2] - p[N-3] +\n",
    "         .\n",
    "         .\n",
    "         .\n",
    "         p[N] - p[N-1] + p[N-1] - p[N-2] + ... + p[3] - p[2] + p[2] - p[1]\n",
    "```\n",
    "通项公式为：\n",
    "$$sum[i] = (i-1)*(p[i]-p[i-1])+sum[i-1]$$\n",
    "总的距离为：\n",
    "$$D_{total}=2*(N-1)!*\\sum_{i=1}^Nsum[i]$$\n",
    "\n",
    "参考：[魔法排列 (牛客网)](https://www.nowcoder.com/questionTerminal/b484f71c7eb04e518e6a243ba687830d?orderByHotValue=1&page=1&onlyReference=false)"
   ]
  },
  {
   "cell_type": "code",
   "execution_count": 4,
   "metadata": {},
   "outputs": [
    {
     "name": "stdout",
     "output_type": "stream",
     "text": [
      "3\n",
      "0 1 3\n",
      "24\n"
     ]
    }
   ],
   "source": [
    "# 100%\n",
    "def factorial2(n):                                             # 阶乘\n",
    "    tmp = 1\n",
    "    for i in range(1,n+1):\n",
    "        tmp =  (tmp*i + (10**9 + 7)) % (10**9 + 7)               # 防止溢出\n",
    "    return tmp\n",
    "def result2():\n",
    "    n = int(input().strip('\\n'))\n",
    "    num_list = list(map(int, input().strip().split(' ')))\n",
    "    sum = 0\n",
    "    for i in range(1, n):\n",
    "        tmp_distance = num_list[i] - num_list[i-1]\n",
    "        sum += 2*i* (n - i) * tmp_distance\n",
    "    sum *=  factorial2(n-1)\n",
    "    out = sum % (10**9 + 7)\n",
    "    print(out)\n",
    "result2()"
   ]
  },
  {
   "cell_type": "markdown",
   "metadata": {},
   "source": [
    "## 2. 小易喜欢的数列"
   ]
  },
  {
   "cell_type": "markdown",
   "metadata": {},
   "source": [
    "<center>\n",
    "<img src='images/喜欢的数列.jpg' width=70% height=70%>\n",
    "</center>"
   ]
  },
  {
   "cell_type": "markdown",
   "metadata": {},
   "source": [
    "当n=3，k=3时\n",
    "\n",
    "|k\\n|1|2|3|\n",
    "|-|-|-|-|\n",
    "|1|1|1|1|\n",
    "|2|1|3|7|\n",
    "|3|1|3|7|\n",
    "\n",
    "|n\\k|1|2|3|\n",
    "|-|-|-|-|\n",
    "|1|1|1|1|\n",
    "|2|1|3|3|\n",
    "|3|1|7|7|\n",
    "\n",
    "当n=3，k=4时\n",
    "\n",
    "|k\\n|1|2|3|\n",
    "|-|-|-|-|\n",
    "|1|1|1|1|\n",
    "|2|1|3|8|\n",
    "|3|1|4|12|\n",
    "|4|1|4|12|\n",
    "\n",
    "|n\\k|1|2|3|4|\n",
    "|-|-|-|-|-|\n",
    "|1|1|1|1|1|\n",
    "|2|1|3|4|4|\n",
    "|3|1|8|12|12|\n",
    "\n",
    "\n",
    "上面的表格**n**表示当前的序列长度，**k**表示当前序列长度下末尾的数字，例如在第二个表格中，当序列长度为2，末尾数字也是2时，有(1,2)、(2,2)、(3,2)，其中(4,2)不符合要求，所以只有三种情况，同理在序列长度为3并且末尾数字是2是时，可以理解为在序列长度为2的序列上直接增加2，但末尾数字是2时，前一个数字不能是4，所以长度为2末尾是4的序列可以排除掉，因此将长度为2，末尾是1,2,3的序列个数相加得8，最终的结果将n=3，k=3的对应的表格相加即可。\n",
    "\n",
    "设`state[i][j]`表示整个状态空间，其中$ 1 \\leq i \\leq n$，$1 \\leq j \\leq k$，$i$表示数列长度，$j$表示数列长度为$i$时数列末尾的数字是$j$，递推关系如下：\n",
    "\n",
    "$$state[i][j] = \\sum_{m=1}^k state[i-1][m]，  ~~~其中(m,j)是合法序列$$\n",
    "\n",
    "可以化简为下面的方式：\n",
    "$$state[i][j] = \\sum_{j=1}^k state[i-1][j] - invalid，~~~其中invalid是不合法序列的个数$$\n",
    "其中不合法序列的是前一个数是后一个数的整数倍，除了数字本身，如(4,2)、(6,2)、(8,2)等\n",
    "\n",
    "最终的结果为：\n",
    "$$result = \\sum_{j=1}^kstate[n][j]$$\n",
    "\n",
    "注意：`shift + space`可以将输入在全角和半角间切换\n",
    "\n",
    "参考：[小易喜欢的数列 (CSDN)](https://blog.csdn.net/u010429424/article/details/77218912) $~~$[小易喜欢的数列 (牛客)](https://www.nowcoder.com/questionTerminal/49375dd6a42d4230b0dc4ea5a2597a9b?orderByHotValue=1&page=1&onlyReference=false)"
   ]
  },
  {
   "cell_type": "code",
   "execution_count": 35,
   "metadata": {},
   "outputs": [
    {
     "name": "stdout",
     "output_type": "stream",
     "text": [
      "2 2\n",
      "3\n"
     ]
    }
   ],
   "source": [
    "def result():\n",
    "    \"\"\"\n",
    "    AC 40%\n",
    "    使用未化简前的式子，对于长度为n末尾是j的序列遍历长度为n-1末尾是m的序列，将符合要求的相加；\n",
    "    但3个循环的计算量太大了，需要减少复杂度\n",
    "    \"\"\"\n",
    "    n, k = list(map(int, input().strip().split(' ')))\n",
    "#     n, k = 3, 4\n",
    "    state = [[0 if i !=0 else 1 for _ in range(k)] for i in range(n)]      # n行k列的二维数组\n",
    "    for i in range(1, n):\n",
    "        for j in range(1, k+1):                                            # i表示行，j表示列\n",
    "            for m in range(1, k+1):\n",
    "                if m % j != 0 or m == j:                                   # m not in [2*j,3*j,4*j,...]\n",
    "                    state[i][j-1] += state[i-1][m-1]                       # 注意数组从0开始索引       \n",
    "    sum = 0\n",
    "    for data in state[-1]:\n",
    "        sum += data\n",
    "#     print(state)\n",
    "    print(sum % 1000000007)\n",
    "result()"
   ]
  },
  {
   "cell_type": "code",
   "execution_count": 50,
   "metadata": {},
   "outputs": [
    {
     "name": "stdout",
     "output_type": "stream",
     "text": [
      "2 2\n",
      "3\n"
     ]
    }
   ],
   "source": [
    "def result2():\n",
    "    \"\"\"\n",
    "    AC 80% 复杂度仍旧太高，可能是由于python list处理数组复杂度太大\n",
    "    \"\"\"\n",
    "    mod = 1000000007 \n",
    "    n, k = list(map(int, input().strip().split(' ')))\n",
    "#     n, k = 3, 4\n",
    "    state = [[0 if i !=0 else 1 for _ in range(k)] for i in range(n)]         # n行k列的二维数组\n",
    "    for i in range(1, n):\n",
    "        sum = 0\n",
    "        for j in range(1, k+1):                                               # i表示行，j表示列\n",
    "            sum += state[i-1][j-1]                                            # 将i-1长度的序列个数都相加  \n",
    "        \n",
    "        for j in range(1, k+1):                                            \n",
    "            p = 2\n",
    "            invalid = 0\n",
    "            while p*j <= k:\n",
    "                invalid = invalid + state[i-1][p*j-1]                         # 减去多余的序列个数\n",
    "                p += 1                                                        # 倍数2,3,4...\n",
    "            state[i][j-1] = sum - invalid\n",
    "        \n",
    "    out = 0\n",
    "    for data in state[-1]:\n",
    "        out = (out + data) % mod\n",
    "#     print(state)\n",
    "    print(out)\n",
    "result2()"
   ]
  },
  {
   "cell_type": "code",
   "execution_count": null,
   "metadata": {},
   "outputs": [],
   "source": []
  },
  {
   "cell_type": "code",
   "execution_count": null,
   "metadata": {},
   "outputs": [],
   "source": []
  },
  {
   "cell_type": "code",
   "execution_count": null,
   "metadata": {},
   "outputs": [],
   "source": []
  },
  {
   "cell_type": "code",
   "execution_count": null,
   "metadata": {},
   "outputs": [],
   "source": []
  },
  {
   "cell_type": "code",
   "execution_count": null,
   "metadata": {},
   "outputs": [],
   "source": []
  },
  {
   "cell_type": "code",
   "execution_count": null,
   "metadata": {},
   "outputs": [],
   "source": []
  },
  {
   "cell_type": "code",
   "execution_count": null,
   "metadata": {},
   "outputs": [],
   "source": []
  },
  {
   "cell_type": "code",
   "execution_count": null,
   "metadata": {},
   "outputs": [],
   "source": []
  }
 ],
 "metadata": {
  "kernelspec": {
   "display_name": "Python 3",
   "language": "python",
   "name": "python3"
  },
  "language_info": {
   "codemirror_mode": {
    "name": "ipython",
    "version": 3
   },
   "file_extension": ".py",
   "mimetype": "text/x-python",
   "name": "python",
   "nbconvert_exporter": "python",
   "pygments_lexer": "ipython3",
   "version": "3.6.4"
  }
 },
 "nbformat": 4,
 "nbformat_minor": 2
}
